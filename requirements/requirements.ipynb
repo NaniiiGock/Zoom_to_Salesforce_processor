{
 "cells": [
  {
   "cell_type": "markdown",
   "metadata": {},
   "source": [
    "# Meeting contact extraction"
   ]
  },
  {
   "cell_type": "markdown",
   "metadata": {},
   "source": [
    "## Task overview\n",
    "\n",
    "In the sales process any meeting is a valuable source of information about the customer.Sales executive usually must fill this information into CRM manually. \n",
    "\n",
    "In this assignment you need to:\n",
    "- use a meeting transcript to extract valuable information about a customer\n",
    "- create/update records in CRM.\n",
    "\n",
    "- Develop a solution that leverages Large Language Models to process Zoom meeting data (meeting information and WEBVTT files) and subsequently create or update Salesforce Contact records. \n",
    "\n",
    "- The solution must consider the Salesforce schema for the Contact object, filling in all possible fields, including custom fields."
   ]
  },
  {
   "cell_type": "markdown",
   "metadata": {},
   "source": [
    "## Objectives\n",
    "- Extract relevant information from Zoom meeting data (meeting info and WEBVTT files example provided).\n",
    "- Create or update Salesforce Contact records using the extracted information.\n",
    "- Ensure the solution adheres to the Salesforce schema for the Contact object, including custom fields.\n",
    "\n",
    "# Deliverables\n",
    "\n",
    "- Source code for the solution.\n",
    "- Documentation explaining the implementation, setup, and usage.\n",
    "- Test cases to validate the solution.\n",
    "- Deployment requirements: models, platform, etc."
   ]
  },
  {
   "cell_type": "markdown",
   "metadata": {},
   "source": [
    "# Requirements"
   ]
  },
  {
   "cell_type": "markdown",
   "metadata": {},
   "source": [
    "\n",
    "## Functional Requirements\n",
    "\n",
    "- Data Extraction: Extract relevant information from Zoom meeting info and WEBVTT files. This includes participant names, email addresses, company names, job titles, and any other relevant details. (can be mocked, no need to integrate with Zoom API directly)\n",
    "- Data Processing: Utilize LLMs to process the extracted data, identifying and organizing key information.\n",
    "Ensure the data is formatted correctly for Salesforce.\n",
    "- Salesforce Integration: Create or update Salesforce Contact records based on the processed data.\n",
    "Populate all possible fields in the Contact object, including custom fields defined in the Salesforce schema.\n",
    "- Error Handling: Implement robust error handling to manage data inconsistencies, missing information, and API errors.\n",
    "\n",
    "## Non-Functional Requirements\n",
    "- Performance: The solution should process data efficiently, minimizing latency.\n",
    "- Scalability: Design the solution to handle a growing number of Zoom meetings and corresponding data.\n",
    "- Security: Ensure all data processing and storage adhere to security best practices. Safeguard sensitive information such as email addresses and personal details."
   ]
  },
  {
   "cell_type": "markdown",
   "metadata": {},
   "source": [
    "\n",
    "## Technical Requirements\n",
    "- Programming Languages: Preferred: Python.\n",
    "- Frameworks & Libraries\n",
    "- LLM libraries: Langchain, Hugging Face Transformers, etc.\n",
    "- Salesforce SDKs: Simple Salesforce, Salesforce REST API, etc.\n",
    "\n",
    "## APIs & Tools\n",
    "- Zoom API for fetching meeting info and WEBVTT files.\n",
    "- Salesforce API for creating/updating Contact records.\n",
    "\n",
    "## Data Formats\n",
    "- Input: JSON for meeting info, WEBVTT for transcription files, Salesforce Contact schema.\n",
    "- Output: JSON for Salesforce API requests.\n",
    "\n",
    "## Evaluation Criteria\n",
    "- Code Quality: Clean, maintainable, and well-documented code.\n",
    "- Functionality: Meets all functional requirements accurately.\n",
    "- Performance: Efficient data processing and minimal latency.\n",
    "- Scalability: Ability to handle increasing data volume.\n",
    "- Security: Adheres to security best practices.\n",
    "\n",
    "## Submission Instructions\n",
    "- Submit the source code, documentation, and test cases via a Git repository or a ZIP file.\n",
    "- Provide a deployment guide as a separate document (README.md).\n",
    "- Include any additional setup instructions or dependencies.\n",
    "\n",
    "\n",
    "\n"
   ]
  },
  {
   "cell_type": "markdown",
   "metadata": {},
   "source": [
    "Useful links\n",
    "Create Salesforce developer account: https://developer.salesforce.com/signup\n",
    "Salesforce documentation: https://developer.salesforce.com/docs/atlas.en-us.api_rest.meta/api_rest/intro_rest.htm\n",
    "Salesforce objects metadata (schema): https://developer.salesforce.com/docs/atlas.en-us.api_rest.meta/api_rest/using_resources_working_with_object_metadata.htm?q=Metadata\n",
    "Zoom meeting API: https://developers.zoom.us/docs/api/rest/reference/zoom-api/methods/#operation/meeting\n",
    "WEBVTT format: https://developer.mozilla.org/en-US/docs/Web/API/WebVTT_API"
   ]
  },
  {
   "cell_type": "markdown",
   "metadata": {},
   "source": [
    "# Questions:\n",
    "\n",
    "- what the needed CRM should include?\n",
    "- deployment platform, price\n",
    "- models to use \n",
    "\n",
    "\n"
   ]
  },
  {
   "cell_type": "markdown",
   "metadata": {},
   "source": [
    "---\n"
   ]
  },
  {
   "cell_type": "markdown",
   "metadata": {},
   "source": [
    "Security:\n",
    "\n",
    "- OAuth 2.0 for zoom and Salesforce api \n",
    "- token management (regular rotation)\n",
    "- least previledge principle\n",
    "\n",
    "Data Encryption:\n",
    "- HTTPS is used for all API communications\n",
    "- encrypt sensitive data\n",
    "\n",
    "Secure storage:\n",
    "- .env variables (also possible aws secrets management)\n",
    "- sensitive info is not hardcoded\n",
    "\n",
    "Input validation and sanitization:\n",
    "- all input data before processing and sending to apis\n",
    "- error handling to prevent information leakage\n",
    "\n",
    "Logging and monitoring:\n",
    "- comprehensive logging for all api interactions and data processing\n",
    "- no sensitive information in logs\n",
    "\n",
    "Rate Limiting:\n",
    "- prevent ddos attacs\n",
    "\n",
    "LLM securety:\n",
    "- choose secure provider ( azure openai)\n",
    "- dada sent to llm \n",
    "\n",
    "Data minimization:\n",
    "\n",
    "Access Control\n",
    "- RBAG to limit data access\n",
    "\n",
    "\n"
   ]
  },
  {
   "cell_type": "markdown",
   "metadata": {},
   "source": [
    "---"
   ]
  },
  {
   "cell_type": "markdown",
   "metadata": {},
   "source": [
    "Scalability:\n",
    "\n",
    "microservice Architecture:\n",
    "- load balancing \n",
    "\n",
    "caching\n",
    "async processing\n",
    "docker for deployment\n",
    "autoscaling\n"
   ]
  }
 ],
 "metadata": {
  "language_info": {
   "name": "python"
  }
 },
 "nbformat": 4,
 "nbformat_minor": 2
}
